{
 "metadata": {
  "language_info": {
   "codemirror_mode": {
    "name": "ipython",
    "version": 3
   },
   "file_extension": ".py",
   "mimetype": "text/x-python",
   "name": "python",
   "nbconvert_exporter": "python",
   "pygments_lexer": "ipython3",
   "version": "3.7.6"
  },
  "orig_nbformat": 2,
  "kernelspec": {
   "name": "python376jvsc74a57bd0601d824671b1304ebd7780875b0f42415a42a20d76ae0be8fc3be8721490c78c",
   "display_name": "Python 3.7.6 64-bit"
  }
 },
 "nbformat": 4,
 "nbformat_minor": 2,
 "cells": [
  {
   "source": [
    "# API Request Examples\n",
    "\n",
    "This notebook uses the `requests` library to send requests to the containerized API and depict the responses."
   ],
   "cell_type": "markdown",
   "metadata": {}
  },
  {
   "cell_type": "code",
   "execution_count": 10,
   "metadata": {},
   "outputs": [],
   "source": [
    "import requests\n",
    "import json"
   ]
  },
  {
   "cell_type": "code",
   "execution_count": 37,
   "metadata": {},
   "outputs": [],
   "source": [
    "# GET request example:\n",
    "get_res = requests.get('http://localhost:3000/?cl=56&cd=19&fl=192')"
   ]
  },
  {
   "cell_type": "code",
   "execution_count": 48,
   "metadata": {},
   "outputs": [
    {
     "output_type": "execute_result",
     "data": {
      "text/plain": [
       "{'features': {'culmen_length': 56.0,\n",
       "  'culmen_depth': 19.0,\n",
       "  'flipper_length': 192.0},\n",
       " 'prediction': 'Chinstrap'}"
      ]
     },
     "metadata": {},
     "execution_count": 48
    }
   ],
   "source": [
    "# Get the response as a Python dict:\n",
    "get_res.json()"
   ]
  },
  {
   "cell_type": "code",
   "execution_count": 39,
   "metadata": {},
   "outputs": [],
   "source": [
    "# POST request example:\n",
    "post_res = requests.post(\n",
    "    'http://localhost:3000/json',\n",
    "    data=json.dumps({'culmen_length': 50, 'culmen_depth': 14, 'flipper_length': 220}))"
   ]
  },
  {
   "cell_type": "code",
   "execution_count": 49,
   "metadata": {},
   "outputs": [
    {
     "output_type": "execute_result",
     "data": {
      "text/plain": [
       "{'features': {'culmen_length': 50.0,\n",
       "  'culmen_depth': 14.0,\n",
       "  'flipper_length': 220.0},\n",
       " 'prediction': 'Gentoo'}"
      ]
     },
     "metadata": {},
     "execution_count": 49
    }
   ],
   "source": [
    "# Get the response as a Python dict:\n",
    "post_res.json()"
   ]
  },
  {
   "cell_type": "code",
   "execution_count": 41,
   "metadata": {},
   "outputs": [],
   "source": [
    "# Another way to send the POST request data:\n",
    "post_res_2 = requests.post(\n",
    "    'http://localhost:3000/json',\n",
    "    json={'culmen_length': 40, 'culmen_depth': 18, 'flipper_length': 180})"
   ]
  },
  {
   "cell_type": "code",
   "execution_count": 50,
   "metadata": {},
   "outputs": [
    {
     "output_type": "execute_result",
     "data": {
      "text/plain": [
       "{'features': {'culmen_length': 40.0,\n",
       "  'culmen_depth': 18.0,\n",
       "  'flipper_length': 180.0},\n",
       " 'prediction': 'Adelie'}"
      ]
     },
     "metadata": {},
     "execution_count": 50
    }
   ],
   "source": [
    "# Get the response as a Python dict:\n",
    "post_res_2.json()"
   ]
  },
  {
   "cell_type": "code",
   "execution_count": null,
   "metadata": {},
   "outputs": [],
   "source": []
  }
 ]
}